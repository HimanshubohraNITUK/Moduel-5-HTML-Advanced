{
  "nbformat": 4,
  "nbformat_minor": 0,
  "metadata": {
    "colab": {
      "provenance": []
    },
    "kernelspec": {
      "name": "python3",
      "display_name": "Python 3"
    },
    "language_info": {
      "name": "python"
    }
  },
  "cells": [
    {
      "cell_type": "markdown",
      "source": [
        "Q1  List out the features of HTML6 ?\n",
        " -  The features of HTML5 are:\n",
        "\n",
        "1. New Semantic Elements: HTML5 introduces semantic tags like `<header>`, `<footer>`, `<section>`, `<article>`, `<nav>`, and `<main>` that provide better structure and meaning to the content.\n",
        "\n",
        "2. Multimedia Support: It allows embedding audio and video directly into web pages using the `<audio>` and `<video>` elements without the need for external plugins.\n",
        "\n",
        "3. Graphics and Effects: HTML5 supports the `<canvas>` element for drawing graphics and animations using JavaScript, and also includes support for SVG and WebGL for advanced 2D and 3D rendering.\n",
        "\n",
        "4. Form Enhancements: New input types like `email`, `date`, `number`, `range`, and `color` have been added, along with attributes like `required`, `placeholder`, and `autocomplete` to make form handling easier.\n",
        "\n",
        "5. APIs for Web Applications : HTML5 includes powerful APIs such as Geolocation, Web Storage (localStorage and sessionStorage), Drag-and-Drop, WebSockets, and the Canvas API for richer web applications.\n",
        "\n",
        "6. Doctype Simplification: HTML5 uses a simplified and easy-to-remember doctype declaration: `<!DOCTYPE html>`.\n",
        "\n",
        "Q2  What are HTML Entities? List out 5 commonly used HTML entities ?\n",
        "- HTML Entities are special codes used in HTML to display reserved characters that have a specific meaning in HTML or characters that are not available on the keyboard. For example, characters like <, >, &, etc., are part of HTML syntax, so to display them as text, we use HTML entities. These entities start with an ampersand (&) and end with a semicolon (;).\n",
        "\n",
        " &lt; – Displays the less than symbol (<)\n",
        "\n",
        " &gt; – Displays the greater than symbol (>)\n",
        "\n",
        " &amp; – Displays the ampersand symbol (&)\n",
        "\n",
        " &quot; – Displays a double quotation mark (\")\n",
        "\n",
        " &nbsp; – Represents a non-breaking space (used to prevent automatic line breaks)\n",
        "\n",
        " Q3  Define accessibility in the context of web development. Discuss why it's essential to create accessibl websites and how it benefits different user group\"?\n",
        " - Accessibility in web development refers to designing and building websites so that all users, including those with disabilities, can easily access, navigate, and interact with web content. It ensures that people with visual, auditory, motor, or cognitive impairments can use websites effectively through assistive technologies like screen readers, keyboard navigation, or voice commands.\n",
        "\n",
        "- Creating accessible websites is essential because it promotes inclusivity, ensures equal access to information, and complies with legal standards such as the Web Content Accessibility Guidelines (WCAG). It also improves overall user experience and usability, benefits SEO, and broadens the website’s reach to a wider audience.\n",
        "\n",
        "- Different user groups benefit in various ways—for example, visually impaired users rely on screen readers, users with motor disabilities depend on keyboard or voice input, and users with cognitive challenges benefit from simple layouts and clear content. Even users with temporary disabilities or elderly users find accessible websites easier to use. In short, web accessibility makes the internet more usable and equitable for everyone.  \n",
        "\n",
        "Q4 List any 3 ways which help us in improving the accessibility of HTML ?\n",
        "\n",
        "Ans:Here are 3 effective ways to improve the accessibility of HTML:\n",
        "\n",
        "1. Use Semantic HTML Elements:\n",
        "   Use elements like `<header>`, `<nav>`, `<main>`, `<article>`, and `<footer>` to give meaning to the structure of the page. This helps screen readers understand and navigate the content more effectively.\n",
        "\n",
        "2. Add `alt` Attributes to Images:  \n",
        "   Provide descriptive `alt` text for all meaningful images using the `alt` attribute. This allows screen readers to convey the image content to visually impaired users.\n",
        "\n",
        "3. Ensure Keyboard Navigation:\n",
        "   Make sure all interactive elements (like links, buttons, and form fields) are accessible using the keyboard alone (e.g., using `Tab`, `Enter`, and `Arrow` keys), which is crucial for users who cannot use a mouse.   \n",
        "\n",
        "\n",
        "Q5 -    Create a web page that highlights the features of HTML5. Use appropriate semantic tags to structure the\n",
        "content and showcase at least three key features of HTML5 with explanations ?\n",
        "\n"
      ],
      "metadata": {
        "id": "lcgDXLv7PrxN"
      }
    },
    {
      "cell_type": "code",
      "source": [
        "<!DOCTYPE html>\n",
        "<html lang=\"en\">\n",
        "<head>\n",
        "  <meta charset=\"UTF-8\">\n",
        "  <meta name=\"viewport\" content=\"width=device-width, initial-scale=1.0\">\n",
        "  <title>Features of HTML5</title>\n",
        "</head>\n",
        "<body>\n",
        "\n",
        "  <header>\n",
        "    <h1>HTML5 Features</h1>\n",
        "    <p>Discover the key features of HTML5 that revolutionized web development.</p>\n",
        "  </header>\n",
        "\n",
        "  <main>\n",
        "    <section>\n",
        "      <article>\n",
        "        <h2>1. Semantic Elements</h2>\n",
        "        <p>HTML5 introduces semantic elements like <code>&lt;header&gt;</code>, <code>&lt;footer&gt;</code>, <code>&lt;section&gt;</code>, and <code>&lt;article&gt;</code>. These tags help in organizing the structure of the webpage and make it easier for screen readers and search engines to understand the content.</p>\n",
        "      </article>\n",
        "\n",
        "      <article>\n",
        "        <h2>2. Multimedia Support</h2>\n",
        "        <p>HTML5 provides built-in support for audio and video using the <code>&lt;audio&gt;</code> and <code>&lt;video&gt;</code> elements. This eliminates the need for third-party plugins, making media integration smoother and more accessible.</p>\n",
        "      </article>\n",
        "\n",
        "      <article>\n",
        "        <h2>3. Form Enhancements</h2>\n",
        "        <p>HTML5 introduces new form elements like <code>email</code>, <code>date</code>, and <code>number</code>, along with validation attributes such as <code>required</code> and <code>placeholder</code>, making it easier to create user-friendly and dynamic forms.</p>\n",
        "      </article>\n",
        "    </section>\n",
        "  </main>\n",
        "\n",
        "</body>\n",
        "</html>\n"
      ],
      "metadata": {
        "id": "fvX7VEMeZkfH"
      },
      "execution_count": null,
      "outputs": []
    },
    {
      "cell_type": "markdown",
      "source": [
        "Q6 -  Create a simple web page which has a table. The table must have 2 columns HTML and HTML5. The table\n",
        "should include a minimum of three rows describing the differences between HTML and HTML5 ?"
      ],
      "metadata": {
        "id": "-9B0CXRkZwTv"
      }
    },
    {
      "cell_type": "code",
      "source": [
        "<!DOCTYPE html>\n",
        "<html lang=\"en\">\n",
        "<head>\n",
        "  <meta charset=\"UTF-8\">\n",
        "  <meta name=\"viewport\" content=\"width=device-width, initial-scale=1.0\">\n",
        "  <title>HTML vs HTML5</title>\n",
        "</head>\n",
        "<body>\n",
        "\n",
        "  <header>\n",
        "    <h1>HTML vs HTML5</h1>\n",
        "    <p>Comparing the features of HTML and HTML5</p>\n",
        "  </header>\n",
        "\n",
        "  <main>\n",
        "    <section>\n",
        "      <h2>Differences Between HTML and HTML5</h2>\n",
        "      <table border=\"1\" cellpadding=\"10\" cellspacing=\"0\">\n",
        "        <thead>\n",
        "          <tr>\n",
        "            <th>HTML</th>\n",
        "            <th>HTML5</th>\n",
        "          </tr>\n",
        "        </thead>\n",
        "        <tbody>\n",
        "          <tr>\n",
        "            <td>HTML is the standard markup language for creating web pages and web applications.</td>\n",
        "            <td>HTML5 is the latest version of HTML, introducing new features and improved functionality.</td>\n",
        "          </tr>\n",
        "          <tr>\n",
        "            <td>HTML does not natively support multimedia elements like audio and video.</td>\n",
        "            <td>HTML5 provides native support for multimedia elements like <code>&lt;audio&gt;</code> and <code>&lt;video&gt;</code>.</td>\n",
        "          </tr>\n",
        "          <tr>\n",
        "            <td>HTML requires external plugins (e.g., Flash) for interactive content.</td>\n",
        "            <td>HTML5 allows interactive content like animations and games without needing third-party plugins.</td>\n",
        "          </tr>\n",
        "        </tbody>\n",
        "      </table>\n",
        "    </section>\n",
        "  </main>\n",
        "\n",
        "\n",
        "\n",
        "</body>\n",
        "</html>\n"
      ],
      "metadata": {
        "id": "ReqOZ4LmatdX"
      },
      "execution_count": null,
      "outputs": []
    }
  ]
}